{
  "nbformat": 4,
  "nbformat_minor": 0,
  "metadata": {
    "colab": {
      "name": "AES 256 Encryption.ipynb",
      "provenance": [],
      "collapsed_sections": [],
      "authorship_tag": "ABX9TyPNCHhZWo1yRG4IXJvpYk83",
      "include_colab_link": true
    },
    "kernelspec": {
      "name": "python3",
      "display_name": "Python 3"
    },
    "language_info": {
      "name": "python"
    }
  },
  "cells": [
    {
      "cell_type": "markdown",
      "metadata": {
        "id": "view-in-github",
        "colab_type": "text"
      },
      "source": [
        "<a href=\"https://colab.research.google.com/github/akmalrusdy/python/blob/main/AES_Encryption.ipynb\" target=\"_parent\"><img src=\"https://colab.research.google.com/assets/colab-badge.svg\" alt=\"Open In Colab\"/></a>"
      ]
    },
    {
      "cell_type": "code",
      "execution_count": 1,
      "metadata": {
        "colab": {
          "base_uri": "https://localhost:8080/"
        },
        "id": "JPqTqskXnEeB",
        "outputId": "b7667850-02f7-4526-f42e-2e3fa338721f"
      },
      "outputs": [
        {
          "output_type": "stream",
          "name": "stdout",
          "text": [
            "Looking in indexes: https://pypi.org/simple, https://us-python.pkg.dev/colab-wheels/public/simple/\n",
            "Collecting pycryptodome\n",
            "  Downloading pycryptodome-3.15.0-cp35-abi3-manylinux2010_x86_64.whl (2.3 MB)\n",
            "\u001b[K     |████████████████████████████████| 2.3 MB 7.0 MB/s \n",
            "\u001b[?25hInstalling collected packages: pycryptodome\n",
            "Successfully installed pycryptodome-3.15.0\n"
          ]
        }
      ],
      "source": [
        "!pip install pycryptodome"
      ]
    },
    {
      "cell_type": "code",
      "source": [
        "# Encryption System\n",
        "from Crypto.Cipher import AES\n",
        "from Crypto.Util.Padding import pad, unpad\n",
        "# from Crypto.Util"
      ],
      "metadata": {
        "id": "Gu_yeCOUnSGP"
      },
      "execution_count": 2,
      "outputs": []
    },
    {
      "cell_type": "code",
      "source": [
        "#Note\n",
        "#AES 128 will use 16 char key while AES 256 use 32 char key\n",
        "#IV only uses when AES using mode CBC \n",
        "\n",
        "key = \"12345678abcdefgh\" #you can change the key whatever you like\n",
        "iv = \"12345678abcdefgh\" #you can change the key whatever you like, but make sure it is 16 char"
      ],
      "metadata": {
        "id": "RFbnkJQVnXB6"
      },
      "execution_count": 3,
      "outputs": []
    },
    {
      "cell_type": "code",
      "source": [
        "import base64\n",
        "def encrypt(data):\n",
        "    data = pad(data.encode(),16)\n",
        "    cipher = AES.new(key.encode(\"utf-8\"), AES.MODE_CBC, iv.encode(\"utf-8\"))\n",
        "    return base64.b64encode(cipher.encrypt(data))\n",
        "\n",
        "\n",
        "def decrypt(enc):\n",
        "  enc = base64.b64decode(enc)\n",
        "  cipher = AES.new(key.encode('utf-8'), AES.MODE_CBC, iv.encode(\"utf-8\"))\n",
        "  return unpad(cipher.decrypt(enc),16)"
      ],
      "metadata": {
        "id": "ivbC-T7QoR3j"
      },
      "execution_count": 4,
      "outputs": []
    },
    {
      "cell_type": "code",
      "source": [
        "text = \"123456\"\n",
        "encrypted_text = encrypt(text).decode(\"utf-8\", \"ignore\")"
      ],
      "metadata": {
        "id": "ry7chVuboakm"
      },
      "execution_count": 5,
      "outputs": []
    },
    {
      "cell_type": "code",
      "source": [
        "print(encrypted_text)"
      ],
      "metadata": {
        "colab": {
          "base_uri": "https://localhost:8080/"
        },
        "id": "OlQo_09Uo_JQ",
        "outputId": "d3a5958b-125c-4c50-ccf0-0cc0d5874cc6"
      },
      "execution_count": 6,
      "outputs": [
        {
          "output_type": "stream",
          "name": "stdout",
          "text": [
            "4bXu+YTPMsQWGRyZEA/IMw==\n"
          ]
        }
      ]
    },
    {
      "cell_type": "code",
      "source": [
        "decrypt_text = decrypt(encrypted_text).decode(\"utf-8\", \"ignore\")"
      ],
      "metadata": {
        "id": "uxNo7rdW31bA"
      },
      "execution_count": 10,
      "outputs": []
    },
    {
      "cell_type": "code",
      "source": [
        "print(decrypt_text)"
      ],
      "metadata": {
        "colab": {
          "base_uri": "https://localhost:8080/"
        },
        "id": "7e4kuj1n61vX",
        "outputId": "a7c2290d-8bd9-4868-8f86-82e8ae2ac83b"
      },
      "execution_count": 11,
      "outputs": [
        {
          "output_type": "stream",
          "name": "stdout",
          "text": [
            "123456\n"
          ]
        }
      ]
    }
  ]
}