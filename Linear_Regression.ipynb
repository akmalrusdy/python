{
  "nbformat": 4,
  "nbformat_minor": 0,
  "metadata": {
    "colab": {
      "name": "Linear Regression.ipynb",
      "provenance": [],
      "authorship_tag": "ABX9TyNH5DnG+7v4RcGr3H/Rqjy1",
      "include_colab_link": true
    },
    "kernelspec": {
      "name": "python3",
      "display_name": "Python 3"
    },
    "language_info": {
      "name": "python"
    }
  },
  "cells": [
    {
      "cell_type": "markdown",
      "metadata": {
        "id": "view-in-github",
        "colab_type": "text"
      },
      "source": [
        "<a href=\"https://colab.research.google.com/github/akmalrusdy/python/blob/main/Linear_Regression.ipynb\" target=\"_parent\"><img src=\"https://colab.research.google.com/assets/colab-badge.svg\" alt=\"Open In Colab\"/></a>"
      ]
    },
    {
      "cell_type": "code",
      "execution_count": 127,
      "metadata": {
        "id": "ZlqIAB80jhxj"
      },
      "outputs": [],
      "source": [
        "import numpy as np\n",
        "import matplotlib.pyplot as plt\n",
        "import pandas as pd"
      ]
    },
    {
      "cell_type": "code",
      "source": [
        "df = pd.DataFrame({'X': [0.7, 1.5, 2.6], 'Y': [0.8, 1.6, 3.0]})"
      ],
      "metadata": {
        "id": "N43CIKh3j7SI"
      },
      "execution_count": 128,
      "outputs": []
    },
    {
      "cell_type": "code",
      "source": [
        "df"
      ],
      "metadata": {
        "colab": {
          "base_uri": "https://localhost:8080/",
          "height": 143
        },
        "id": "YGMlo-rGkSCS",
        "outputId": "cc797dd4-9839-4e12-c33c-5393f5e59a97"
      },
      "execution_count": 129,
      "outputs": [
        {
          "output_type": "execute_result",
          "data": {
            "text/plain": [
              "     X    Y\n",
              "0  0.7  0.8\n",
              "1  1.5  1.6\n",
              "2  2.6  3.0"
            ],
            "text/html": [
              "\n",
              "  <div id=\"df-579c76a9-036f-46e4-a161-621a675dfc55\">\n",
              "    <div class=\"colab-df-container\">\n",
              "      <div>\n",
              "<style scoped>\n",
              "    .dataframe tbody tr th:only-of-type {\n",
              "        vertical-align: middle;\n",
              "    }\n",
              "\n",
              "    .dataframe tbody tr th {\n",
              "        vertical-align: top;\n",
              "    }\n",
              "\n",
              "    .dataframe thead th {\n",
              "        text-align: right;\n",
              "    }\n",
              "</style>\n",
              "<table border=\"1\" class=\"dataframe\">\n",
              "  <thead>\n",
              "    <tr style=\"text-align: right;\">\n",
              "      <th></th>\n",
              "      <th>X</th>\n",
              "      <th>Y</th>\n",
              "    </tr>\n",
              "  </thead>\n",
              "  <tbody>\n",
              "    <tr>\n",
              "      <th>0</th>\n",
              "      <td>0.7</td>\n",
              "      <td>0.8</td>\n",
              "    </tr>\n",
              "    <tr>\n",
              "      <th>1</th>\n",
              "      <td>1.5</td>\n",
              "      <td>1.6</td>\n",
              "    </tr>\n",
              "    <tr>\n",
              "      <th>2</th>\n",
              "      <td>2.6</td>\n",
              "      <td>3.0</td>\n",
              "    </tr>\n",
              "  </tbody>\n",
              "</table>\n",
              "</div>\n",
              "      <button class=\"colab-df-convert\" onclick=\"convertToInteractive('df-579c76a9-036f-46e4-a161-621a675dfc55')\"\n",
              "              title=\"Convert this dataframe to an interactive table.\"\n",
              "              style=\"display:none;\">\n",
              "        \n",
              "  <svg xmlns=\"http://www.w3.org/2000/svg\" height=\"24px\"viewBox=\"0 0 24 24\"\n",
              "       width=\"24px\">\n",
              "    <path d=\"M0 0h24v24H0V0z\" fill=\"none\"/>\n",
              "    <path d=\"M18.56 5.44l.94 2.06.94-2.06 2.06-.94-2.06-.94-.94-2.06-.94 2.06-2.06.94zm-11 1L8.5 8.5l.94-2.06 2.06-.94-2.06-.94L8.5 2.5l-.94 2.06-2.06.94zm10 10l.94 2.06.94-2.06 2.06-.94-2.06-.94-.94-2.06-.94 2.06-2.06.94z\"/><path d=\"M17.41 7.96l-1.37-1.37c-.4-.4-.92-.59-1.43-.59-.52 0-1.04.2-1.43.59L10.3 9.45l-7.72 7.72c-.78.78-.78 2.05 0 2.83L4 21.41c.39.39.9.59 1.41.59.51 0 1.02-.2 1.41-.59l7.78-7.78 2.81-2.81c.8-.78.8-2.07 0-2.86zM5.41 20L4 18.59l7.72-7.72 1.47 1.35L5.41 20z\"/>\n",
              "  </svg>\n",
              "      </button>\n",
              "      \n",
              "  <style>\n",
              "    .colab-df-container {\n",
              "      display:flex;\n",
              "      flex-wrap:wrap;\n",
              "      gap: 12px;\n",
              "    }\n",
              "\n",
              "    .colab-df-convert {\n",
              "      background-color: #E8F0FE;\n",
              "      border: none;\n",
              "      border-radius: 50%;\n",
              "      cursor: pointer;\n",
              "      display: none;\n",
              "      fill: #1967D2;\n",
              "      height: 32px;\n",
              "      padding: 0 0 0 0;\n",
              "      width: 32px;\n",
              "    }\n",
              "\n",
              "    .colab-df-convert:hover {\n",
              "      background-color: #E2EBFA;\n",
              "      box-shadow: 0px 1px 2px rgba(60, 64, 67, 0.3), 0px 1px 3px 1px rgba(60, 64, 67, 0.15);\n",
              "      fill: #174EA6;\n",
              "    }\n",
              "\n",
              "    [theme=dark] .colab-df-convert {\n",
              "      background-color: #3B4455;\n",
              "      fill: #D2E3FC;\n",
              "    }\n",
              "\n",
              "    [theme=dark] .colab-df-convert:hover {\n",
              "      background-color: #434B5C;\n",
              "      box-shadow: 0px 1px 3px 1px rgba(0, 0, 0, 0.15);\n",
              "      filter: drop-shadow(0px 1px 2px rgba(0, 0, 0, 0.3));\n",
              "      fill: #FFFFFF;\n",
              "    }\n",
              "  </style>\n",
              "\n",
              "      <script>\n",
              "        const buttonEl =\n",
              "          document.querySelector('#df-579c76a9-036f-46e4-a161-621a675dfc55 button.colab-df-convert');\n",
              "        buttonEl.style.display =\n",
              "          google.colab.kernel.accessAllowed ? 'block' : 'none';\n",
              "\n",
              "        async function convertToInteractive(key) {\n",
              "          const element = document.querySelector('#df-579c76a9-036f-46e4-a161-621a675dfc55');\n",
              "          const dataTable =\n",
              "            await google.colab.kernel.invokeFunction('convertToInteractive',\n",
              "                                                     [key], {});\n",
              "          if (!dataTable) return;\n",
              "\n",
              "          const docLinkHtml = 'Like what you see? Visit the ' +\n",
              "            '<a target=\"_blank\" href=https://colab.research.google.com/notebooks/data_table.ipynb>data table notebook</a>'\n",
              "            + ' to learn more about interactive tables.';\n",
              "          element.innerHTML = '';\n",
              "          dataTable['output_type'] = 'display_data';\n",
              "          await google.colab.output.renderOutput(dataTable, element);\n",
              "          const docLink = document.createElement('div');\n",
              "          docLink.innerHTML = docLinkHtml;\n",
              "          element.appendChild(docLink);\n",
              "        }\n",
              "      </script>\n",
              "    </div>\n",
              "  </div>\n",
              "  "
            ]
          },
          "metadata": {},
          "execution_count": 129
        }
      ]
    },
    {
      "cell_type": "code",
      "source": [
        "X = df['X']\n",
        "Y = df['Y']\n",
        "plt.scatter(X, Y)\n",
        "plt.show()"
      ],
      "metadata": {
        "colab": {
          "base_uri": "https://localhost:8080/",
          "height": 265
        },
        "id": "Q9txVv_k3LJ2",
        "outputId": "3f531e01-86c4-4d97-cad1-d67ac3d48383"
      },
      "execution_count": 130,
      "outputs": [
        {
          "output_type": "display_data",
          "data": {
            "text/plain": [
              "<Figure size 432x288 with 1 Axes>"
            ],
            "image/png": "[encoded data removed]"
          },
          "metadata": {
            "needs_background": "light"
          }
        }
      ]
    },
    {
      "cell_type": "code",
      "source": [
        "x1 = np.array(X)\n",
        "y1 = np.array(Y)"
      ],
      "metadata": {
        "id": "byAMoex7kUkA"
      },
      "execution_count": 131,
      "outputs": []
    },
    {
      "cell_type": "markdown",
      "source": [
        "\n",
        "Linear Regression\n",
        "\n",
        "y = m(x) + c\n",
        "\n",
        "m = slope\n",
        "c = interception"
      ],
      "metadata": {
        "id": "RSlaAlqsmxnm"
      }
    },
    {
      "cell_type": "code",
      "source": [
        "m = 0.5\n",
        "c = 0\n",
        "\n",
        "def linear_reg(x):\n",
        "  y = m*x + c\n",
        "  return y"
      ],
      "metadata": {
        "id": "I9svns_Xm-AN"
      },
      "execution_count": 184,
      "outputs": []
    },
    {
      "cell_type": "code",
      "source": [
        "y_pred = []\n",
        "for x in X:\n",
        "  y_pred.append(linear_reg(x))"
      ],
      "metadata": {
        "id": "UeMV9iM7tKxw"
      },
      "execution_count": 185,
      "outputs": []
    },
    {
      "cell_type": "code",
      "source": [
        "y_pred"
      ],
      "metadata": {
        "colab": {
          "base_uri": "https://localhost:8080/"
        },
        "id": "9SZicmxYp3-h",
        "outputId": "ee353362-8fe6-48cd-bab9-f99d16a9e6eb"
      },
      "execution_count": 186,
      "outputs": [
        {
          "output_type": "execute_result",
          "data": {
            "text/plain": [
              "[0.35, 0.75, 1.3]"
            ]
          },
          "metadata": {},
          "execution_count": 186
        }
      ]
    },
    {
      "cell_type": "markdown",
      "source": [
        "Loss Function"
      ],
      "metadata": {
        "id": "NqVsud6uGm4y"
      }
    },
    {
      "cell_type": "code",
      "source": [
        "l1_loss = pow(y1-y_pred,2)"
      ],
      "metadata": {
        "id": "IWqcF2GC09JW"
      },
      "execution_count": 187,
      "outputs": []
    },
    {
      "cell_type": "code",
      "source": [
        "l1_loss"
      ],
      "metadata": {
        "colab": {
          "base_uri": "https://localhost:8080/"
        },
        "id": "5PYRX6AyEraz",
        "outputId": "c4d5e66b-c8e4-4423-935f-01171c820757"
      },
      "execution_count": 188,
      "outputs": [
        {
          "output_type": "execute_result",
          "data": {
            "text/plain": [
              "array([0.2025, 0.7225, 2.89  ])"
            ]
          },
          "metadata": {},
          "execution_count": 188
        }
      ]
    },
    {
      "cell_type": "code",
      "source": [
        "RSS = l1_loss.sum()\n",
        "MSE = l1_loss.mean()\n",
        "print(RSS)\n",
        "print(MSE)"
      ],
      "metadata": {
        "colab": {
          "base_uri": "https://localhost:8080/"
        },
        "id": "xFTCr6ch1T7H",
        "outputId": "5a298c8d-4017-4826-9b2e-1b6adf73ae23"
      },
      "execution_count": 189,
      "outputs": [
        {
          "output_type": "stream",
          "name": "stdout",
          "text": [
            "3.815\n",
            "1.2716666666666667\n"
          ]
        }
      ]
    },
    {
      "cell_type": "code",
      "source": [
        "plt.scatter(X, Y, color='red') \n",
        "plt.plot([min(X), max(X)], [min(y_pred), max(y_pred)], color='blue')  # regression line\n",
        "plt.show()"
      ],
      "metadata": {
        "colab": {
          "base_uri": "https://localhost:8080/",
          "height": 265
        },
        "id": "mZFRHH6L4Fmm",
        "outputId": "fbc8c520-ab0c-4bec-fb34-87f00b31619e"
      },
      "execution_count": 190,
      "outputs": [
        {
          "output_type": "display_data",
          "data": {
            "text/plain": [
              "<Figure size 432x288 with 1 Axes>"
            ],
            "image/png": "[encoded data removed]"
          },
          "metadata": {
            "needs_background": "light"
          }
        }
      ]
    },
    {
      "cell_type": "markdown",
      "source": [
        "Learning Rate Optimization\n",
        "\n"
      ],
      "metadata": {
        "id": "GY6wHu-dGtXk"
      }
    },
    {
      "cell_type": "code",
      "source": [
        "def RSS_opt(m,c,L):\n",
        "  D_m = -2 * sum(X * (Y - y_pred))  # Derivative wrt m\n",
        "  D_c = -2 * sum(Y - y_pred)  # Derivative wrt c\n",
        "  m = m - L * D_m  # Update m\n",
        "  m = m\n",
        "  c = c - L * D_c  # Update c\n",
        "  return (m,c)\n",
        "\n",
        "def MSE_opt(m,c,L):\n",
        "  n = float(len(X))\n",
        "  Y_pred = m*X + c  # The current predicted value of Y\n",
        "  D_m = (-2/n) * sum(X * (Y - y_pred))  # Derivative wrt m\n",
        "  D_c = (-2/n) * sum(Y - y_pred)  # Derivative wrt c\n",
        "  m = m - L * D_m  # Update m\n",
        "  c = c - L * D_c  # Update c\n",
        "  return (m,c)\n"
      ],
      "metadata": {
        "id": "pFnhhHz0Jxla"
      },
      "execution_count": 194,
      "outputs": []
    },
    {
      "cell_type": "code",
      "source": [
        "m = 0.5\n",
        "c = 0\n",
        "L = 0.1 #Learning Rate\n",
        "lin_reg_opt_mse = MSE_opt(m,c,L) #Using MSE as Cost Function\n",
        "lin_reg_opt_rss = RSS_opt(m,c,L) #Using RSS as Cost Function\n",
        "print(lin_reg_opt_mse)\n",
        "print(lin_reg_opt_rss)"
      ],
      "metadata": {
        "colab": {
          "base_uri": "https://localhost:8080/"
        },
        "id": "nKiKMj9AKjRs",
        "outputId": "fe5cfd02-88ee-42be-81f2-958dc071d775"
      },
      "execution_count": 237,
      "outputs": [
        {
          "output_type": "stream",
          "name": "stdout",
          "text": [
            "(0.9006666666666666, 0.2)\n",
            "(1.702, 0.6000000000000001)\n"
          ]
        }
      ]
    },
    {
      "cell_type": "code",
      "source": [
        "# Making predictions\n",
        "m = lin_reg_opt_mse[0]\n",
        "c = lin_reg_opt_mse[1]\n",
        "y_pred_opt = m*X + c\n",
        "\n",
        "plt.scatter(X, Y, color = 'red') \n",
        "plt.plot([min(X), max(X)], [min(y_pred_opt), max(y_pred_opt)], color='blue')  # regression line\n",
        "plt.show()"
      ],
      "metadata": {
        "colab": {
          "base_uri": "https://localhost:8080/",
          "height": 265
        },
        "id": "dLzJWDYv3xLk",
        "outputId": "6dbd4b83-8fc5-48bb-9ab5-81c5e409b408"
      },
      "execution_count": 240,
      "outputs": [
        {
          "output_type": "display_data",
          "data": {
            "text/plain": [
              "<Figure size 432x288 with 1 Axes>"
            ],
            "image/png": "[encoded data removed]"
          },
          "metadata": {
            "needs_background": "light"
          }
        }
      ]
    },
    {
      "cell_type": "code",
      "source": [
        "l1_loss_opt = pow(y1-y_pred_opt,2)\n",
        "print(\"MSE:\",l1_loss_opt.mean())\n",
        "print(\"RSS:\",l1_loss_opt.sum())"
      ],
      "metadata": {
        "colab": {
          "base_uri": "https://localhost:8080/"
        },
        "id": "daf1QS29Me0o",
        "outputId": "f6056c80-4ff6-44cf-88a7-16ed28c6b161"
      },
      "execution_count": 245,
      "outputs": [
        {
          "output_type": "stream",
          "name": "stdout",
          "text": [
            "MSE: 0.07111251851851844\n",
            "RSS: 0.2133375555555553\n"
          ]
        }
      ]
    },
    {
      "cell_type": "markdown",
      "source": [
        "Linear Regression using sklearn.linear_model"
      ],
      "metadata": {
        "id": "07qwXvQ6G5_P"
      }
    },
    {
      "cell_type": "code",
      "source": [
        "from sklearn.linear_model import LinearRegression\n",
        "X1 = df[[\"X\"]]\n",
        "Y1 = df[[\"Y\"]]\n",
        "\n",
        "\n",
        "regressor = LinearRegression()\n",
        "regressor.fit(X1, Y1)"
      ],
      "metadata": {
        "colab": {
          "base_uri": "https://localhost:8080/"
        },
        "id": "8zTBrFsUDCHb",
        "outputId": "2c77dcbd-a21c-450a-db6e-fb89507d8185"
      },
      "execution_count": 210,
      "outputs": [
        {
          "output_type": "execute_result",
          "data": {
            "text/plain": [
              "LinearRegression()"
            ]
          },
          "metadata": {},
          "execution_count": 210
        }
      ]
    },
    {
      "cell_type": "code",
      "source": [
        "plt.scatter(X1, Y1, color = 'red')\n",
        "plt.plot(X1, regressor.predict(X1), color = 'blue')\n",
        "plt.title('X vs Y')\n",
        "plt.xlabel('X')\n",
        "plt.ylabel('Y')\n",
        "plt.show()"
      ],
      "metadata": {
        "colab": {
          "base_uri": "https://localhost:8080/",
          "height": 295
        },
        "id": "MbgEDsx7DmtF",
        "outputId": "9ce30470-3f6d-453b-8deb-4e3a0e4de608"
      },
      "execution_count": 211,
      "outputs": [
        {
          "output_type": "display_data",
          "data": {
            "text/plain": [
              "<Figure size 432x288 with 1 Axes>"
            ],
            "image/png": "[encoded data removed]"
          },
          "metadata": {
            "needs_background": "light"
          }
        }
      ]
    },
    {
      "cell_type": "code",
      "source": [
        "print(regressor.intercept_)"
      ],
      "metadata": {
        "colab": {
          "base_uri": "https://localhost:8080/"
        },
        "id": "E0z7uPQnD-XZ",
        "outputId": "a7f86c3b-6f2c-45cc-a38e-2850fc4d5a08"
      },
      "execution_count": 212,
      "outputs": [
        {
          "output_type": "stream",
          "name": "stdout",
          "text": [
            "[-0.06373626]\n"
          ]
        }
      ]
    },
    {
      "cell_type": "code",
      "source": [
        "print(regressor.coef_)"
      ],
      "metadata": {
        "colab": {
          "base_uri": "https://localhost:8080/"
        },
        "id": "RYG_Xe4TEIOB",
        "outputId": "f504a0f7-7811-4266-aee7-c02ea9cc6342"
      },
      "execution_count": 213,
      "outputs": [
        {
          "output_type": "stream",
          "name": "stdout",
          "text": [
            "[[1.16483516]]\n"
          ]
        }
      ]
    },
    {
      "cell_type": "code",
      "source": [
        "l1_loss_reg = pow(Y1-regressor.predict(X1),2)"
      ],
      "metadata": {
        "id": "tPflIc3dEXw3"
      },
      "execution_count": 214,
      "outputs": []
    },
    {
      "cell_type": "code",
      "source": [
        "l1_loss_reg.mean()"
      ],
      "metadata": {
        "colab": {
          "base_uri": "https://localhost:8080/"
        },
        "id": "30P3kEWyEfsS",
        "outputId": "2479aa60-3439-416a-b776-949092c23e87"
      },
      "execution_count": 216,
      "outputs": [
        {
          "output_type": "execute_result",
          "data": {
            "text/plain": [
              "Y    0.003516\n",
              "dtype: float64"
            ]
          },
          "metadata": {},
          "execution_count": 216
        }
      ]
    }
  ]
}