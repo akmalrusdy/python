{
  "cells": [
    {
      "cell_type": "markdown",
      "metadata": {
        "id": "view-in-github",
        "colab_type": "text"
      },
      "source": [
        "<a href=\"https://colab.research.google.com/github/akmalrusdy/python/blob/main/KATARAK_SVM.ipynb\" target=\"_parent\"><img src=\"https://colab.research.google.com/assets/colab-badge.svg\" alt=\"Open In Colab\"/></a>"
      ]
    },
    {
      "cell_type": "code",
      "execution_count": 1,
      "metadata": {
        "id": "2P6K2UDMNCO-"
      },
      "outputs": [],
      "source": [
        "from sklearn.svm import SVC\n",
        "from sklearn.metrics import classification_report\n",
        "from imutils import paths\n",
        "from matplotlib import pyplot as plt\n",
        "import os\n",
        "import numpy as np\n",
        "import cv2"
      ]
    },
    {
      "cell_type": "code",
      "execution_count": 2,
      "metadata": {
        "colab": {
          "base_uri": "https://localhost:8080/"
        },
        "id": "kJCmozLYNjiL",
        "outputId": "e9a0134e-b9b9-4962-e308-4e84dbbd790c"
      },
      "outputs": [
        {
          "output_type": "stream",
          "name": "stdout",
          "text": [
            "Mounted at /content/drive\n"
          ]
        }
      ],
      "source": [
        "from google.colab import drive\n",
        "drive.mount('/content/drive')"
      ]
    },
    {
      "cell_type": "code",
      "execution_count": 3,
      "metadata": {
        "colab": {
          "base_uri": "https://localhost:8080/"
        },
        "id": "Y48eN8EtOMss",
        "outputId": "6d8667c7-badc-4b54-cda0-e1792c9b0e7f"
      },
      "outputs": [
        {
          "output_type": "stream",
          "name": "stdout",
          "text": [
            "/content/drive/MyDrive/Colab Notebooks/TA/Dataset/Dataset-Final/80-20\n"
          ]
        }
      ],
      "source": [
        "%cd '/content/drive/MyDrive/Colab Notebooks/TA/Dataset/Dataset-Final/80-20'"
      ]
    },
    {
      "cell_type": "markdown",
      "metadata": {
        "id": "yMQhEFEDRnGG"
      },
      "source": [
        "### Gabor Wavelet + SVM"
      ]
    },
    {
      "cell_type": "code",
      "execution_count": 4,
      "metadata": {
        "id": "k0luXlDwNsUr"
      },
      "outputs": [],
      "source": [
        "train_imagePaths = paths.list_images(\"train\")\n",
        "train_data = []\n",
        "train_labels = []\n",
        "\n",
        "test_imagePaths = paths.list_images(\"test\")\n",
        "test_data = []\n",
        "test_labels = []"
      ]
    },
    {
      "cell_type": "code",
      "execution_count": 5,
      "metadata": {
        "id": "uoKAEdwqstjZ"
      },
      "outputs": [],
      "source": [
        "def build_filters():\n",
        "  filters = []\n",
        "  ksize = 9\n",
        "  for theta in np.arange(0, np.pi, np.pi / 6):\n",
        "    kern = cv2.getGaborKernel((ksize, ksize), 4.0, theta, 3.0, 0.5, 0, ktype=cv2.CV_32F)\n",
        "    filters.append(kern)\n",
        "  return filters"
      ]
    },
    {
      "cell_type": "code",
      "execution_count": 6,
      "metadata": {
        "id": "aIcKA1H-tIpC"
      },
      "outputs": [],
      "source": [
        "def process(img, filters):\n",
        " accum = np.zeros_like(img)\n",
        " for kern in filters:\n",
        "  fimg = cv2.filter2D(img, cv2.CV_8UC3, kern)\n",
        "  np.maximum(accum, fimg, accum)\n",
        " return accum"
      ]
    },
    {
      "cell_type": "code",
      "execution_count": 7,
      "metadata": {
        "id": "vwNKe-kxOJan"
      },
      "outputs": [],
      "source": [
        "filters = build_filters()\n",
        "\n",
        "for imagePath in train_imagePaths:\n",
        "  img = cv2.imread(imagePath)\n",
        "  img = cv2.cvtColor(img, cv2.COLOR_BGR2RGB)\n",
        "  img = cv2.resize(img, (64, 64))\n",
        " \n",
        "  fimg = process(img, filters) #feature extraction\n",
        "\n",
        "  label = imagePath.split(os.path.sep)[-2]\n",
        "  train_data.append(fimg)\n",
        "  train_labels.append(label)\n",
        "\n",
        "for imagePath in test_imagePaths:\n",
        "  img = cv2.imread(imagePath)\n",
        "  img = cv2.cvtColor(img, cv2.COLOR_BGR2RGB)\n",
        "  img = cv2.resize(img, (64, 64))\n",
        "\n",
        "  fimg = process(img, filters) #feature extraction\n",
        "\n",
        "  label = imagePath.split(os.path.sep)[-2]\n",
        "  test_data.append(fimg)\n",
        "  test_labels.append(label)"
      ]
    },
    {
      "cell_type": "code",
      "execution_count": 8,
      "metadata": {
        "colab": {
          "base_uri": "https://localhost:8080/"
        },
        "id": "NiNWwYiLgQFl",
        "outputId": "3ba9b6a3-6e14-4286-9d49-b21727056588"
      },
      "outputs": [
        {
          "output_type": "stream",
          "name": "stdout",
          "text": [
            "(360, 64, 64, 3)\n",
            "(90, 64, 64, 3)\n"
          ]
        }
      ],
      "source": [
        "train_data = np.array(train_data) / 255.0 #normalization\n",
        "trainY = np.array(train_labels)\n",
        "test_data = np.array(test_data) / 255.0 #normalization\n",
        "testY = np.array(test_labels)\n",
        "print(train_data.shape)\n",
        "print(test_data.shape)"
      ]
    },
    {
      "cell_type": "code",
      "execution_count": 9,
      "metadata": {
        "colab": {
          "base_uri": "https://localhost:8080/"
        },
        "id": "VP3Q_Zkugd73",
        "outputId": "3e26891a-a543-4ed9-b41e-da42d880ecdc"
      },
      "outputs": [
        {
          "output_type": "stream",
          "name": "stdout",
          "text": [
            "(360, 12288)\n",
            "(90, 12288)\n"
          ]
        }
      ],
      "source": [
        "nsamples, nx, ny, nz = train_data.shape\n",
        "trainX = train_data.reshape((nsamples,nx*ny*nz))\n",
        "\n",
        "nsamples, nx, ny, nz= test_data.shape\n",
        "testX = test_data.reshape((nsamples,nx*ny*nz))\n",
        "\n",
        "print(trainX.shape)\n",
        "print(testX.shape)"
      ]
    },
    {
      "cell_type": "markdown",
      "metadata": {
        "id": "TKRdPXupxMkf"
      },
      "source": [
        "### TRAINING SVM"
      ]
    },
    {
      "cell_type": "code",
      "execution_count": 10,
      "metadata": {
        "colab": {
          "base_uri": "https://localhost:8080/"
        },
        "id": "26GyLD__150Y",
        "outputId": "c745ea16-d0da-4718-9ef5-810338e617aa"
      },
      "outputs": [
        {
          "output_type": "stream",
          "name": "stdout",
          "text": [
            " Training SVM classifier...\n",
            "1.89 s ± 609 ms per loop (mean ± std. dev. of 7 runs, 1 loop each)\n"
          ]
        }
      ],
      "source": [
        "#%% Train the linear SVM\n",
        "print(\" Training SVM classifier...\")\n",
        "model = SVC(kernel='linear', C=1, gamma=1.0e-3)\n",
        "%timeit model.fit(trainX, trainY)"
      ]
    },
    {
      "cell_type": "code",
      "source": [
        "#%% Evaluate the classifier\n",
        "print(\" Evaluating classifier on train data ...\")\n",
        "predictions = model.predict(trainX)\n",
        "print(classification_report(trainY, predictions,digits=4))\n",
        "#%% Evaluate the classifier\n",
        "print(\" Evaluating classifier on test data ...\")\n",
        "predictions1 = model.predict(testX)\n",
        "print(classification_report(testY, predictions1,digits=4))"
      ],
      "metadata": {
        "colab": {
          "base_uri": "https://localhost:8080/"
        },
        "id": "dO5I8SY8t2LE",
        "outputId": "20083f86-fb71-417e-ea7a-b698e3c5d9e4"
      },
      "execution_count": 11,
      "outputs": [
        {
          "output_type": "stream",
          "name": "stdout",
          "text": [
            " Evaluating classifier on train data ...\n",
            "              precision    recall  f1-score   support\n",
            "\n",
            "    immature     1.0000    1.0000    1.0000       120\n",
            "      mature     1.0000    1.0000    1.0000       120\n",
            "      normal     1.0000    1.0000    1.0000       120\n",
            "\n",
            "    accuracy                         1.0000       360\n",
            "   macro avg     1.0000    1.0000    1.0000       360\n",
            "weighted avg     1.0000    1.0000    1.0000       360\n",
            "\n",
            " Evaluating classifier on test data ...\n",
            "              precision    recall  f1-score   support\n",
            "\n",
            "    immature     0.9375    1.0000    0.9677        30\n",
            "      mature     0.9677    1.0000    0.9836        30\n",
            "      normal     1.0000    0.9000    0.9474        30\n",
            "\n",
            "    accuracy                         0.9667        90\n",
            "   macro avg     0.9684    0.9667    0.9662        90\n",
            "weighted avg     0.9684    0.9667    0.9662        90\n",
            "\n"
          ]
        }
      ]
    },
    {
      "cell_type": "markdown",
      "metadata": {
        "id": "C-fZasYlAJ0t"
      },
      "source": [
        "###CONFUSION MATRIX ANALYSIS"
      ]
    },
    {
      "cell_type": "code",
      "execution_count": null,
      "metadata": {
        "colab": {
          "base_uri": "https://localhost:8080/",
          "height": 297
        },
        "id": "0GHVbhDAhj1N",
        "outputId": "dabbd14a-ca55-40b9-a0fd-040c1fbaa6e0"
      },
      "outputs": [
        {
          "output_type": "display_data",
          "data": {
            "text/plain": [
              "<Figure size 432x288 with 2 Axes>"
            ],
            "image/png": "[encoded data removed]"
          },
          "metadata": {
            "needs_background": "light"
          }
        }
      ],
      "source": [
        "import sklearn.metrics as metrics\n",
        "import seaborn as sn\n",
        "import matplotlib.pyplot as plt\n",
        "confusion_matrix = metrics.confusion_matrix(testY, predictions1)\n",
        "x_axis_labels = ['Immature','Mature','Normal']\n",
        "y_axis_labels = ['Immature','Mature','Normal']\n",
        "sn.heatmap(confusion_matrix, xticklabels=x_axis_labels, yticklabels=y_axis_labels, annot=True, fmt='d')\n",
        "plt.xlabel('Predicted')\n",
        "plt.ylabel('True')\n",
        "plt.tight_layout()\n",
        "plt.show()"
      ]
    },
    {
      "cell_type": "code",
      "source": [
        "!pip install memory_profiler\n",
        "!pip install line_profiler"
      ],
      "metadata": {
        "colab": {
          "base_uri": "https://localhost:8080/"
        },
        "id": "nR7e30D4BDvu",
        "outputId": "fa42c7df-cc2a-47f1-e9ea-4a85b706a929"
      },
      "execution_count": null,
      "outputs": [
        {
          "output_type": "stream",
          "name": "stdout",
          "text": [
            "Looking in indexes: https://pypi.org/simple, https://us-python.pkg.dev/colab-wheels/public/simple/\n",
            "Requirement already satisfied: memory_profiler in /usr/local/lib/python3.7/dist-packages (0.60.0)\n",
            "Requirement already satisfied: psutil in /usr/local/lib/python3.7/dist-packages (from memory_profiler) (5.4.8)\n",
            "Looking in indexes: https://pypi.org/simple, https://us-python.pkg.dev/colab-wheels/public/simple/\n",
            "Requirement already satisfied: line_profiler in /usr/local/lib/python3.7/dist-packages (3.5.1)\n"
          ]
        }
      ]
    },
    {
      "cell_type": "code",
      "source": [
        "%load_ext memory_profiler\n",
        "%load_ext line_profiler"
      ],
      "metadata": {
        "colab": {
          "base_uri": "https://localhost:8080/"
        },
        "id": "9Tzl1TsIBMYG",
        "outputId": "ed54cc0a-d295-4889-883c-570826485f95"
      },
      "execution_count": null,
      "outputs": [
        {
          "output_type": "stream",
          "name": "stdout",
          "text": [
            "The memory_profiler extension is already loaded. To reload it, use:\n",
            "  %reload_ext memory_profiler\n",
            "The line_profiler extension is already loaded. To reload it, use:\n",
            "  %reload_ext line_profiler\n"
          ]
        }
      ]
    },
    {
      "cell_type": "code",
      "source": [
        "def model_predict(path):\n",
        "  x = []\n",
        "  img = cv2.imread(path)\n",
        "  img = cv2.cvtColor(img, cv2.COLOR_BGR2RGB)\n",
        "  img = cv2.resize(img, (64, 64))\n",
        "  fimg = process(img, filters)\n",
        "  x.append(fimg)\n",
        "  images = np.array(x) / 255.0\n",
        "  nsamples, nx, ny, nz= images.shape\n",
        "  images = images.reshape((nsamples,nx*ny*nz))\n",
        "  classes = model.predict(images)"
      ],
      "metadata": {
        "id": "IdB_UErQBU-D"
      },
      "execution_count": null,
      "outputs": []
    },
    {
      "cell_type": "code",
      "source": [
        "test_time_imagePaths = paths.list_images(\"test\")\n",
        "model_predict_time = []\n",
        "for imagePath in test_time_imagePaths:\n",
        "  time =  %timeit -o -n 10 model_predict(imagePath)\n",
        "  model_predict_time.append(time)"
      ],
      "metadata": {
        "colab": {
          "base_uri": "https://localhost:8080/"
        },
        "id": "MVpNhcujB-dR",
        "outputId": "d63518b5-7448-4638-9562-4dc772bbd61d"
      },
      "execution_count": null,
      "outputs": [
        {
          "output_type": "stream",
          "name": "stdout",
          "text": [
            "10 loops, best of 5: 11.7 ms per loop\n",
            "10 loops, best of 5: 12 ms per loop\n",
            "10 loops, best of 5: 12.3 ms per loop\n",
            "10 loops, best of 5: 12.8 ms per loop\n",
            "10 loops, best of 5: 12 ms per loop\n",
            "10 loops, best of 5: 13.3 ms per loop\n",
            "10 loops, best of 5: 13.3 ms per loop\n",
            "10 loops, best of 5: 13.3 ms per loop\n",
            "10 loops, best of 5: 13.4 ms per loop\n",
            "10 loops, best of 5: 13.4 ms per loop\n",
            "10 loops, best of 5: 13.2 ms per loop\n",
            "10 loops, best of 5: 13.2 ms per loop\n",
            "10 loops, best of 5: 13.4 ms per loop\n",
            "10 loops, best of 5: 12.9 ms per loop\n",
            "10 loops, best of 5: 13.3 ms per loop\n",
            "10 loops, best of 5: 13.3 ms per loop\n",
            "10 loops, best of 5: 12.6 ms per loop\n",
            "10 loops, best of 5: 12.4 ms per loop\n",
            "10 loops, best of 5: 11.7 ms per loop\n",
            "10 loops, best of 5: 11.8 ms per loop\n",
            "10 loops, best of 5: 13 ms per loop\n",
            "10 loops, best of 5: 11.8 ms per loop\n",
            "10 loops, best of 5: 12 ms per loop\n",
            "10 loops, best of 5: 11.8 ms per loop\n",
            "10 loops, best of 5: 11.5 ms per loop\n",
            "10 loops, best of 5: 12 ms per loop\n",
            "10 loops, best of 5: 12.2 ms per loop\n",
            "10 loops, best of 5: 12.7 ms per loop\n",
            "10 loops, best of 5: 12.9 ms per loop\n",
            "10 loops, best of 5: 12.1 ms per loop\n",
            "10 loops, best of 5: 12.9 ms per loop\n",
            "10 loops, best of 5: 12.2 ms per loop\n",
            "10 loops, best of 5: 13.3 ms per loop\n",
            "10 loops, best of 5: 13.2 ms per loop\n",
            "10 loops, best of 5: 12.8 ms per loop\n",
            "10 loops, best of 5: 13 ms per loop\n",
            "10 loops, best of 5: 13.5 ms per loop\n",
            "10 loops, best of 5: 13 ms per loop\n",
            "10 loops, best of 5: 13.2 ms per loop\n",
            "10 loops, best of 5: 13.9 ms per loop\n",
            "10 loops, best of 5: 13.2 ms per loop\n",
            "10 loops, best of 5: 13 ms per loop\n",
            "10 loops, best of 5: 13.1 ms per loop\n",
            "10 loops, best of 5: 12.7 ms per loop\n",
            "10 loops, best of 5: 13.1 ms per loop\n",
            "10 loops, best of 5: 13.3 ms per loop\n",
            "10 loops, best of 5: 12.8 ms per loop\n",
            "10 loops, best of 5: 13 ms per loop\n",
            "10 loops, best of 5: 12.9 ms per loop\n",
            "10 loops, best of 5: 13 ms per loop\n",
            "10 loops, best of 5: 13.2 ms per loop\n",
            "10 loops, best of 5: 12.8 ms per loop\n",
            "10 loops, best of 5: 13 ms per loop\n",
            "10 loops, best of 5: 13.4 ms per loop\n",
            "10 loops, best of 5: 13 ms per loop\n",
            "10 loops, best of 5: 12.8 ms per loop\n",
            "10 loops, best of 5: 12.4 ms per loop\n",
            "10 loops, best of 5: 13 ms per loop\n",
            "10 loops, best of 5: 12.5 ms per loop\n",
            "10 loops, best of 5: 13.5 ms per loop\n",
            "10 loops, best of 5: 12.9 ms per loop\n",
            "10 loops, best of 5: 13.2 ms per loop\n",
            "10 loops, best of 5: 13 ms per loop\n",
            "10 loops, best of 5: 12.7 ms per loop\n",
            "10 loops, best of 5: 13.1 ms per loop\n",
            "10 loops, best of 5: 13.1 ms per loop\n",
            "10 loops, best of 5: 12.9 ms per loop\n",
            "10 loops, best of 5: 11.8 ms per loop\n",
            "10 loops, best of 5: 12 ms per loop\n",
            "10 loops, best of 5: 11.9 ms per loop\n",
            "10 loops, best of 5: 12.4 ms per loop\n",
            "10 loops, best of 5: 12.1 ms per loop\n",
            "10 loops, best of 5: 12 ms per loop\n",
            "10 loops, best of 5: 12.4 ms per loop\n",
            "10 loops, best of 5: 12.5 ms per loop\n",
            "10 loops, best of 5: 13.4 ms per loop\n",
            "10 loops, best of 5: 13.6 ms per loop\n",
            "10 loops, best of 5: 18 ms per loop\n",
            "10 loops, best of 5: 21.1 ms per loop\n",
            "10 loops, best of 5: 18.1 ms per loop\n",
            "10 loops, best of 5: 12.1 ms per loop\n",
            "10 loops, best of 5: 12.4 ms per loop\n",
            "10 loops, best of 5: 12.4 ms per loop\n",
            "10 loops, best of 5: 12 ms per loop\n",
            "10 loops, best of 5: 12.1 ms per loop\n",
            "10 loops, best of 5: 12 ms per loop\n",
            "10 loops, best of 5: 12.1 ms per loop\n",
            "10 loops, best of 5: 12.4 ms per loop\n",
            "10 loops, best of 5: 11.4 ms per loop\n",
            "10 loops, best of 5: 11.9 ms per loop\n"
          ]
        }
      ]
    },
    {
      "cell_type": "code",
      "source": [
        "test_mem_imagePaths = paths.list_images(\"test\")\n",
        "model_predict_memory_usage = []\n",
        "for imagePath in test_mem_imagePaths:\n",
        "  memory =  %memit -o model_predict(imagePath)\n",
        "  model_predict_memory_usage.append(memory)"
      ],
      "metadata": {
        "colab": {
          "base_uri": "https://localhost:8080/"
        },
        "id": "ETa7bxDMDibR",
        "outputId": "11a1718f-ff61-4a85-a1a4-fc758a7302e8"
      },
      "execution_count": null,
      "outputs": [
        {
          "output_type": "stream",
          "name": "stdout",
          "text": [
            "peak memory: 347.43 MiB, increment: 0.16 MiB\n",
            "peak memory: 347.55 MiB, increment: 0.00 MiB\n",
            "peak memory: 347.55 MiB, increment: 0.00 MiB\n",
            "peak memory: 347.69 MiB, increment: 0.14 MiB\n",
            "peak memory: 347.69 MiB, increment: 0.00 MiB\n",
            "peak memory: 347.69 MiB, increment: 0.00 MiB\n",
            "peak memory: 347.69 MiB, increment: 0.00 MiB\n",
            "peak memory: 347.69 MiB, increment: 0.00 MiB\n",
            "peak memory: 347.69 MiB, increment: 0.00 MiB\n",
            "peak memory: 347.69 MiB, increment: 0.00 MiB\n",
            "peak memory: 347.69 MiB, increment: 0.00 MiB\n",
            "peak memory: 347.69 MiB, increment: 0.00 MiB\n",
            "peak memory: 347.71 MiB, increment: 0.02 MiB\n",
            "peak memory: 347.71 MiB, increment: 0.00 MiB\n",
            "peak memory: 347.71 MiB, increment: 0.00 MiB\n",
            "peak memory: 347.71 MiB, increment: 0.00 MiB\n",
            "peak memory: 347.71 MiB, increment: 0.00 MiB\n",
            "peak memory: 347.71 MiB, increment: 0.00 MiB\n",
            "peak memory: 347.71 MiB, increment: 0.00 MiB\n",
            "peak memory: 347.71 MiB, increment: 0.00 MiB\n",
            "peak memory: 347.71 MiB, increment: 0.00 MiB\n",
            "peak memory: 347.71 MiB, increment: 0.00 MiB\n",
            "peak memory: 347.71 MiB, increment: 0.00 MiB\n",
            "peak memory: 347.71 MiB, increment: 0.00 MiB\n",
            "peak memory: 347.71 MiB, increment: 0.00 MiB\n",
            "peak memory: 347.71 MiB, increment: 0.00 MiB\n",
            "peak memory: 347.71 MiB, increment: 0.00 MiB\n",
            "peak memory: 347.71 MiB, increment: 0.00 MiB\n",
            "peak memory: 347.71 MiB, increment: 0.00 MiB\n",
            "peak memory: 347.71 MiB, increment: 0.00 MiB\n",
            "peak memory: 347.71 MiB, increment: 0.00 MiB\n",
            "peak memory: 347.71 MiB, increment: 0.00 MiB\n",
            "peak memory: 347.71 MiB, increment: 0.00 MiB\n",
            "peak memory: 347.71 MiB, increment: 0.00 MiB\n",
            "peak memory: 347.71 MiB, increment: 0.00 MiB\n",
            "peak memory: 347.71 MiB, increment: 0.00 MiB\n",
            "peak memory: 347.71 MiB, increment: 0.00 MiB\n",
            "peak memory: 347.71 MiB, increment: 0.00 MiB\n",
            "peak memory: 347.71 MiB, increment: 0.00 MiB\n",
            "peak memory: 347.71 MiB, increment: 0.00 MiB\n",
            "peak memory: 347.71 MiB, increment: 0.00 MiB\n",
            "peak memory: 347.71 MiB, increment: 0.00 MiB\n",
            "peak memory: 347.71 MiB, increment: 0.00 MiB\n",
            "peak memory: 347.71 MiB, increment: 0.00 MiB\n",
            "peak memory: 347.71 MiB, increment: 0.00 MiB\n",
            "peak memory: 347.71 MiB, increment: 0.00 MiB\n",
            "peak memory: 347.71 MiB, increment: 0.00 MiB\n",
            "peak memory: 347.71 MiB, increment: 0.00 MiB\n",
            "peak memory: 347.71 MiB, increment: 0.00 MiB\n",
            "peak memory: 347.71 MiB, increment: 0.00 MiB\n",
            "peak memory: 347.71 MiB, increment: 0.00 MiB\n",
            "peak memory: 347.71 MiB, increment: 0.00 MiB\n",
            "peak memory: 347.71 MiB, increment: 0.00 MiB\n",
            "peak memory: 347.71 MiB, increment: 0.00 MiB\n",
            "peak memory: 347.71 MiB, increment: 0.00 MiB\n",
            "peak memory: 347.71 MiB, increment: 0.00 MiB\n",
            "peak memory: 347.71 MiB, increment: 0.00 MiB\n",
            "peak memory: 347.71 MiB, increment: 0.00 MiB\n",
            "peak memory: 347.71 MiB, increment: 0.00 MiB\n",
            "peak memory: 347.71 MiB, increment: 0.00 MiB\n",
            "peak memory: 347.71 MiB, increment: 0.00 MiB\n",
            "peak memory: 347.71 MiB, increment: 0.00 MiB\n",
            "peak memory: 347.71 MiB, increment: 0.00 MiB\n",
            "peak memory: 347.71 MiB, increment: 0.00 MiB\n",
            "peak memory: 347.71 MiB, increment: 0.00 MiB\n",
            "peak memory: 347.71 MiB, increment: 0.00 MiB\n",
            "peak memory: 347.71 MiB, increment: 0.00 MiB\n",
            "peak memory: 347.71 MiB, increment: 0.00 MiB\n",
            "peak memory: 347.71 MiB, increment: 0.00 MiB\n",
            "peak memory: 347.71 MiB, increment: 0.00 MiB\n",
            "peak memory: 347.71 MiB, increment: 0.00 MiB\n",
            "peak memory: 347.71 MiB, increment: 0.00 MiB\n",
            "peak memory: 347.71 MiB, increment: 0.00 MiB\n",
            "peak memory: 347.71 MiB, increment: 0.00 MiB\n",
            "peak memory: 347.71 MiB, increment: 0.00 MiB\n",
            "peak memory: 347.71 MiB, increment: 0.00 MiB\n",
            "peak memory: 347.71 MiB, increment: 0.00 MiB\n",
            "peak memory: 347.71 MiB, increment: 0.00 MiB\n",
            "peak memory: 347.71 MiB, increment: 0.00 MiB\n",
            "peak memory: 347.71 MiB, increment: 0.00 MiB\n",
            "peak memory: 347.71 MiB, increment: 0.00 MiB\n",
            "peak memory: 347.71 MiB, increment: 0.00 MiB\n",
            "peak memory: 347.71 MiB, increment: 0.00 MiB\n",
            "peak memory: 347.71 MiB, increment: 0.00 MiB\n",
            "peak memory: 347.71 MiB, increment: 0.00 MiB\n",
            "peak memory: 347.71 MiB, increment: 0.00 MiB\n",
            "peak memory: 347.71 MiB, increment: 0.00 MiB\n",
            "peak memory: 347.71 MiB, increment: 0.00 MiB\n",
            "peak memory: 347.71 MiB, increment: 0.00 MiB\n",
            "peak memory: 347.71 MiB, increment: 0.00 MiB\n"
          ]
        }
      ]
    },
    {
      "cell_type": "markdown",
      "metadata": {
        "id": "PPalmvcYAWmn"
      },
      "source": [
        "### UPLOAD IMAGE TEST"
      ]
    },
    {
      "cell_type": "code",
      "execution_count": null,
      "metadata": {
        "colab": {
          "base_uri": "https://localhost:8080/",
          "height": 376,
          "resources": {
            "http://localhost:8080/nbextensions/google.colab/files.js": {
              "data": "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",
              "headers": [
                [
                  "content-type",
                  "application/javascript"
                ]
              ],
              "ok": true,
              "status": 200,
              "status_text": ""
            }
          }
        },
        "id": "pOpggvNCggca",
        "outputId": "1826f7e3-678d-4fcd-f3e4-b3c416afb31d"
      },
      "outputs": [
        {
          "output_type": "display_data",
          "data": {
            "text/plain": [
              "<IPython.core.display.HTML object>"
            ],
            "text/html": [
              "\n",
              "     <input type=\"file\" id=\"files-b13a648f-86b5-42b7-9d93-c67278a0a642\" name=\"files[]\" multiple disabled\n",
              "        style=\"border:none\" />\n",
              "     <output id=\"result-b13a648f-86b5-42b7-9d93-c67278a0a642\">\n",
              "      Upload widget is only available when the cell has been executed in the\n",
              "      current browser session. Please rerun this cell to enable.\n",
              "      </output>\n",
              "      <script src=\"/nbextensions/google.colab/files.js\"></script> "
            ]
          },
          "metadata": {}
        },
        {
          "output_type": "stream",
          "name": "stdout",
          "text": [
            "Saving 4_jpg.rf.add02ecde6a45264a87bd5109c053e7f.jpg to 4_jpg.rf.add02ecde6a45264a87bd5109c053e7f (2).jpg\n",
            "(1, 12288)\n",
            "[[0.41568627 0.61568627 0.55686275 ... 0.54901961 0.40784314 0.36078431]]\n",
            "['immature']\n"
          ]
        },
        {
          "output_type": "display_data",
          "data": {
            "text/plain": [
              "<Figure size 432x288 with 1 Axes>"
            ],
            "image/png": "[encoded data removed]"
          },
          "metadata": {
            "needs_background": "light"
          }
        }
      ],
      "source": [
        "import numpy as np\n",
        "import cv2\n",
        "import matplotlib.pyplot as plt\n",
        "from google.colab import files\n",
        "\n",
        "%matplotlib inline\n",
        "\n",
        "uploaded = files.upload()\n",
        "\n",
        "\n",
        "for fn in uploaded.keys():\n",
        "\n",
        "  path = fn\n",
        "  x = [] \n",
        "  img = cv2.imread(path)\n",
        "  img = cv2.cvtColor(img, cv2.COLOR_BGR2RGB)\n",
        "  img = cv2.resize(img, (64, 64))\n",
        "  fimg = process(img, filters)\n",
        "  x.append(fimg)\n",
        "  images = np.array(x) / 255.0\n",
        "  plt.imshow(img)\n",
        "  nsamples, nx, ny, nz= images.shape\n",
        "  images = images.reshape((nsamples,nx*ny*nz))\n",
        "  classes = model.predict(images)\n",
        "  print(images.shape)\n",
        "  print(images)\n",
        "  print(classes)"
      ]
    }
  ],
  "metadata": {
    "colab": {
      "collapsed_sections": [
        "KnT_vImruLFH",
        "iLSeKFaouUa0",
        "uNqV7t8itz1K"
      ],
      "name": "KATARAK_SVM.ipynb",
      "provenance": [],
      "authorship_tag": "ABX9TyMHvuWbiqhFx0Iml5syH9Wa",
      "include_colab_link": true
    },
    "kernelspec": {
      "display_name": "Python 3",
      "name": "python3"
    },
    "language_info": {
      "name": "python"
    }
  },
  "nbformat": 4,
  "nbformat_minor": 0
}