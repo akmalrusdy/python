{
  "nbformat": 4,
  "nbformat_minor": 0,
  "metadata": {
    "colab": {
      "provenance": [],
      "authorship_tag": "ABX9TyPRd2Nls0Eqpw7RgglJmBiG",
      "include_colab_link": true
    },
    "kernelspec": {
      "name": "python3",
      "display_name": "Python 3"
    },
    "language_info": {
      "name": "python"
    }
  },
  "cells": [
    {
      "cell_type": "markdown",
      "metadata": {
        "id": "view-in-github",
        "colab_type": "text"
      },
      "source": [
        "<a href=\"https://colab.research.google.com/github/akmalrusdy/python/blob/main/Buying_A_Car.ipynb\" target=\"_parent\"><img src=\"https://colab.research.google.com/assets/colab-badge.svg\" alt=\"Open In Colab\"/></a>"
      ]
    },
    {
      "cell_type": "markdown",
      "source": [
        "A man has a rather old car being worth \\$2000. He saw a secondhand car being worth \\$8000. He wants to keep his old car until he can buy the secondhand one.\n",
        "\n",
        "He thinks he can save \\$1000 each month but the prices of his old car and the new one decrease of 1.5% per month. Furthermore this percent of loss increase of 0.5% at the end of every two months. Our man finds it difficult to make all these calculations.\n",
        "\n",
        "How many months will it take him to save up enough money to buy the car he wants, and how much money will he have left over?"
      ],
      "metadata": {
        "id": "kKWZOcYYc1Kt"
      }
    },
    {
      "cell_type": "code",
      "execution_count": 48,
      "metadata": {
        "id": "BVrvyeoycyDz"
      },
      "outputs": [],
      "source": [
        "def nbMonths(startPriceOldCar, startPriceNewCar, savingPerMonth, lossPercentPerMonth):\n",
        "  month = 0\n",
        "  currentSaving = 0\n",
        "  totalPayment = startPriceOldCar + currentSaving\n",
        "  depreciationPercentage = (100 - lossPercentPerMonth) / 100\n",
        "  while (totalPayment < startPriceNewCar):\n",
        "    month = month + 1\n",
        "    if (month%2) == 0:\n",
        "      depreciationPercentage = depreciationPercentage - 0.005\n",
        "    startPriceOldCar = startPriceOldCar * depreciationPercentage\n",
        "    startPriceNewCar = startPriceNewCar * depreciationPercentage\n",
        "    currentSaving = currentSaving + savingPerMonth\n",
        "    totalPayment = startPriceOldCar + currentSaving\n",
        "\n",
        "\n",
        "  print(\"Total month needed: \" +str(month)+ \" months\")\n",
        "  print(\"Total money left over: $\" +str(int(totalPayment - startPriceNewCar)))\n"
      ]
    },
    {
      "cell_type": "code",
      "source": [
        "nbMonths(2000, 8000, 1000, 1.5)"
      ],
      "metadata": {
        "colab": {
          "base_uri": "https://localhost:8080/"
        },
        "id": "nO96AaNFdGlF",
        "outputId": "fa1e4ba6-0cdb-48aa-ed76-955c38b402a8"
      },
      "execution_count": 50,
      "outputs": [
        {
          "output_type": "stream",
          "name": "stdout",
          "text": [
            "Total month needed: 6 months\n",
            "Total money left over: $766\n"
          ]
        }
      ]
    }
  ]
}